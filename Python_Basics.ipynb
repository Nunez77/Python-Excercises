{
 "cells": [
  {
   "cell_type": "code",
   "execution_count": 1,
   "metadata": {},
   "outputs": [
    {
     "name": "stdout",
     "output_type": "stream",
     "text": [
      "27\n"
     ]
    }
   ],
   "source": [
    "# Variables:\n",
    "# We use variables to temporarily store data in computer’s memory.\n",
    "\n",
    "my_Age = 27\n",
    "\n",
    "my_weight = 70.4\n",
    "\n",
    "my_name = \"John doe\"\n",
    "\n",
    "is_working = True\n",
    "\n",
    "# In the above example,\n",
    "# • my_Age is an integer(a whole number without a decimalpoint)\n",
    "# • my_weight  is a float(a number with a decimalpoint)\n",
    "# • my_name is a string(a sequence of characters)\n",
    "# • is_working is a boolean. Boolean values canbe True or False.\n",
    "\n",
    "print(my_Age)\n"
   ]
  },
  {
   "cell_type": "code",
   "execution_count": 3,
   "metadata": {},
   "outputs": [
    {
     "name": "stdout",
     "output_type": "stream",
     "text": [
      "Birth year: 24\n"
     ]
    }
   ],
   "source": [
    "# Receiving Input\n",
    "# We can receive input from the user by calling the input() function. \n",
    "\n",
    "birth_year = int(input(\"Birth year: \"))\n",
    "\n",
    "# The input() function always returns data as a string. So, \n",
    "# we’re converting the result into an integer by calling the built-in int() function."
   ]
  },
  {
   "cell_type": "code",
   "execution_count": 4,
   "metadata": {},
   "outputs": [
    {
     "data": {
      "text/plain": [
       "'c'"
      ]
     },
     "execution_count": 4,
     "metadata": {},
     "output_type": "execute_result"
    }
   ],
   "source": [
    "# # Strings\n",
    "# # We can define strings using single (‘ ‘) or double (“ “) quotes.\n",
    "# # To define a multi-line string, \n",
    "# we surround our string with tripe quotes (“””).\n",
    "\n",
    "course = \"Python basics\"\n",
    "course[0] # returns the first character\n",
    "course[1] # returns the second character\n",
    "course[-1] # returns the first character from the end \n",
    "course[-2] # returns the second character from the end"
   ]
  },
  {
   "cell_type": "code",
   "execution_count": null,
   "metadata": {},
   "outputs": [],
   "source": [
    "# Operator precedence:\n",
    "# 1. parenthesis\n",
    "# 2. exponentiation\n",
    "# 3. multiplication / division 4. addition / subtraction"
   ]
  },
  {
   "cell_type": "code",
   "execution_count": 5,
   "metadata": {},
   "outputs": [
    {
     "name": "stdout",
     "output_type": "stream",
     "text": [
      "3\n"
     ]
    }
   ],
   "source": [
    "# Numbers and Arithmetics\n",
    "# Lets have a look at some basic Mathematics in python\n",
    "print(3) \n",
    "# print(4+5)\n",
    "# print(10-5)\n",
    "# print(3*2) \n",
    "# print(12/5)\n",
    "# print(12//5)\n",
    "# print(2**3) \n",
    "# print(6%2)\n",
    "# print(5%2)\n",
    "\n",
    "# Output: 3 \n",
    "# Output: 9 \n",
    "# Output: 5 \n",
    "# Output: 6 \n",
    "# Output: 2.4 \n",
    "# Output: 2 \n",
    "# Output: 8 \n",
    "# Output: 0 \n",
    "# Output: 1\n",
    "    \n",
    "# Printing Numerical Value\n",
    "# Adding Numbers\n",
    "# Subtracting Numbers\n",
    "# Multiplying Numbers\n",
    "# Dividing Numbers\n",
    "# Dividing numbers and removing decimal points. 2 Power 3 resulting in 8\n",
    "# Modulus results in 0 as no remainder Modulus results in 1 as 1 is the remainder"
   ]
  },
  {
   "cell_type": "code",
   "execution_count": 9,
   "metadata": {},
   "outputs": [
    {
     "name": "stdout",
     "output_type": "stream",
     "text": [
      "Apple\n"
     ]
    }
   ],
   "source": [
    "# Lists\n",
    "# Lists are a sequence of basic data types (also known as array). For example if we wanted to store the names of fruits available in a store we could use a list. Lists can be declared with square brackets and inside the bracket we can add items with separation of commas.\n",
    "\n",
    "myFruits = ['Orange','Apple','Mango']\n",
    "\n",
    "# Accessing the items from a list\n",
    "# The items in a list are ordered and indexed.We can access the items in a list by using their index. The index starts from 0. Therefore in our example Orange would have an index of 0, apple 1 and mango 2.To access we can use square brackets while using the name of the list. \n",
    "\n",
    "# Code:\n",
    "\n",
    "print(myFruits[1]) \n",
    "    \n",
    "# Result:\n",
    "\n",
    "# Apple\n"
   ]
  },
  {
   "cell_type": "code",
   "execution_count": 11,
   "metadata": {},
   "outputs": [
    {
     "ename": "SyntaxError",
     "evalue": "unexpected EOF while parsing (<ipython-input-11-68d2ab444524>, line 23)",
     "output_type": "error",
     "traceback": [
      "\u001b[0;36m  File \u001b[0;32m\"<ipython-input-11-68d2ab444524>\"\u001b[0;36m, line \u001b[0;32m23\u001b[0m\n\u001b[0;31m    # ['Orange', 'Apple', 'Strawberry']\u001b[0m\n\u001b[0m                                       ^\u001b[0m\n\u001b[0;31mSyntaxError\u001b[0m\u001b[0;31m:\u001b[0m unexpected EOF while parsing\n"
     ]
    }
   ],
   "source": [
    "# # Accessing the items from a list\n",
    "# The items in a list are ordered and indexed.We can access the items in a list by using their index. The index starts from 0. Therefore in our example Orange would have an index of 0, apple 1 and mango 2.To access we can use square brackets while using the name of the list. \n",
    "\n",
    "# Code:\n",
    "    \n",
    "print(myFruits[1])\n",
    "\n",
    "# Result:\n",
    "    \n",
    "# Apple\n"
   ]
  },
  {
   "cell_type": "code",
   "execution_count": 15,
   "metadata": {},
   "outputs": [
    {
     "name": "stdout",
     "output_type": "stream",
     "text": [
      "['Orange', 'Apple', 'Mango', 'Strawberry']\n"
     ]
    }
   ],
   "source": [
    "# # Adding and Removing Items\n",
    "# # We can add items to the list and we can remove items from a list.\n",
    "# To add we simply use the append method. Using append adds a value to the end of the list. \n",
    "# To remove items we can use the pop method. We can specify an index in the pop method \n",
    "# for example if we used index 2 it would remove ‘mango’ from the list.\n",
    "\n",
    "myFruits = ['Orange','Apple','Mango']\n",
    "# Code:\n",
    "myFruits.append('Strawberry') \n",
    "print(myFruits) \n",
    "# myFruits.pop(2) \n",
    "# print(myFruits\n",
    "      \n",
    "# Result:\n",
    "# ['Orange', 'Apple', 'Mango', 'Strawberry'] \n",
    "# ['Orange', 'Apple', 'Strawberry']\n"
   ]
  },
  {
   "cell_type": "code",
   "execution_count": 17,
   "metadata": {},
   "outputs": [
    {
     "name": "stdout",
     "output_type": "stream",
     "text": [
      "[309835, 5.3, 'Samsung', True]\n"
     ]
    }
   ],
   "source": [
    "# # Multiple Data Types in a single List\n",
    "# # The items in a list don't have to be of the same data type. \n",
    "# This means we can have integer float String boolean all in a single list.\n",
    "\n",
    "# Code:\n",
    "phoneDetails = [309835,5.3,'Samsung']\n",
    "\n",
    "print(phoneDetails) \n",
    "\n",
    "# Result:\n",
    "# [309835, 5.3, 'Samsung']"
   ]
  },
  {
   "cell_type": "code",
   "execution_count": 20,
   "metadata": {},
   "outputs": [
    {
     "name": "stdout",
     "output_type": "stream",
     "text": [
      "3\n",
      "Orange\n",
      "Apple\n",
      "['Apple', 'Grapes', 'Orange']\n"
     ]
    }
   ],
   "source": [
    "# # Functions with lists\n",
    "# # There are several built in functions that work with lists. \n",
    "# These functions help us find meaningful information within our lists eg. \n",
    "# the total number of items.\n",
    "# # Below are a few of the commonly used functions with lists.\n",
    "\n",
    "# # len() - returns total number of items present in a list\n",
    "# # max() - returns maximum number or highest alphabet\n",
    "# # min() - return minimum number of lowest alphabet\n",
    "# # sorted() - sorts in ascending order by numbers or alphabets\n",
    "\n",
    "# Code:\n",
    "myFruits = ['Orange','Apple','Grapes'] \n",
    "print(len(myFruits)) \n",
    "print(max(myFruits)) \n",
    "print(min(myFruits))\n",
    "print(sorted(myFruits))\n",
    "\n",
    "# Results:\n",
    "# 3\n",
    "# Orange\n",
    "# Apple\n",
    "# ['Apple', 'Grapes', 'Orange']"
   ]
  },
  {
   "cell_type": "code",
   "execution_count": 21,
   "metadata": {},
   "outputs": [
    {
     "name": "stdout",
     "output_type": "stream",
     "text": [
      "Straberry\n"
     ]
    },
    {
     "ename": "TypeError",
     "evalue": "'str' object does not support item assignment",
     "output_type": "error",
     "traceback": [
      "\u001b[0;31m---------------------------------------------------------------------------\u001b[0m",
      "\u001b[0;31mTypeError\u001b[0m                                 Traceback (most recent call last)",
      "\u001b[0;32m<ipython-input-21-31e3acd7dee4>\u001b[0m in \u001b[0;36m<module>\u001b[0;34m\u001b[0m\n\u001b[1;32m     19\u001b[0m \u001b[0;34m\u001b[0m\u001b[0m\n\u001b[1;32m     20\u001b[0m \u001b[0mfruitOfTheDay\u001b[0m \u001b[0;34m=\u001b[0m \u001b[0;34m'Manjo'\u001b[0m\u001b[0;34m\u001b[0m\u001b[0;34m\u001b[0m\u001b[0m\n\u001b[0;32m---> 21\u001b[0;31m \u001b[0mfruitOfTheDay\u001b[0m\u001b[0;34m[\u001b[0m\u001b[0;36m3\u001b[0m\u001b[0;34m]\u001b[0m \u001b[0;34m=\u001b[0m\u001b[0;34m'g'\u001b[0m\u001b[0;34m\u001b[0m\u001b[0;34m\u001b[0m\u001b[0m\n\u001b[0m\u001b[1;32m     22\u001b[0m \u001b[0;34m\u001b[0m\u001b[0m\n\u001b[1;32m     23\u001b[0m \u001b[0;31m# Result:\u001b[0m\u001b[0;34m\u001b[0m\u001b[0;34m\u001b[0m\u001b[0;34m\u001b[0m\u001b[0m\n",
      "\u001b[0;31mTypeError\u001b[0m: 'str' object does not support item assignment"
     ]
    }
   ],
   "source": [
    "# # Mutability\n",
    "# # Mutability means the ability to change. \n",
    "# Some data types are mutable while others are not.\n",
    "# For example List is Mutable where strings are not. \n",
    "# This means after declaring,\n",
    "# the list can be changed but the string cannot be changed.\n",
    "\n",
    "# Changing item of a list\n",
    "\n",
    "# Code:\n",
    "\n",
    "myFruits = ['Orange','Apple','Mango']\n",
    "myFruits[1] = 'Straberry' \n",
    "print(myFruits[1])\n",
    "\n",
    "# Result: \n",
    "       \n",
    "# Straberry\n",
    "    \n",
    "# Changing character of a String\n",
    "\n",
    "# Code:\n",
    "\n",
    "fruitOfTheDay = 'Manjo'\n",
    "fruitOfTheDay[3] ='g' \n",
    "\n",
    "# Result:\n",
    "# TypeError: 'str' object does not support item assignment"
   ]
  },
  {
   "cell_type": "code",
   "execution_count": 22,
   "metadata": {},
   "outputs": [
    {
     "name": "stdout",
     "output_type": "stream",
     "text": [
      "['Mango', 'Strawberry']\n",
      "['Mango', 'Strawberry', 'Banana']\n",
      "['Orange', 'Apple']\n"
     ]
    }
   ],
   "source": [
    "# Slice that Cake (Slicing)\n",
    "\n",
    "myFruits = ['Orange','Apple','Mango','Strawberry','Banana'] \n",
    "print(myFruits[2:4])\n",
    "\n",
    "# # result\n",
    "# ['Mango', 'Strawberry']\n",
    "\n",
    "myFruits = ['Orange','Apple','Mango','Strawberry','Banana']\n",
    "print(myFruits[2:])\n",
    "\n",
    "# Result\n",
    "# ['Mango', 'Strawberry', 'Banana']\n",
    "\n",
    "myFruits = ['Orange','Apple','Mango','Strawberry','Banana']\n",
    "print(myFruits[:2])\n",
    "\n",
    "# # Result\n",
    "# ['Orange', 'Apple']\n",
    "  "
   ]
  },
  {
   "cell_type": "code",
   "execution_count": 28,
   "metadata": {},
   "outputs": [
    {
     "name": "stdout",
     "output_type": "stream",
     "text": [
      "Mango\n"
     ]
    },
    {
     "ename": "TypeError",
     "evalue": "'tuple' object does not support item assignment",
     "output_type": "error",
     "traceback": [
      "\u001b[0;31m---------------------------------------------------------------------------\u001b[0m",
      "\u001b[0;31mTypeError\u001b[0m                                 Traceback (most recent call last)",
      "\u001b[0;32m<ipython-input-28-41633c2c7253>\u001b[0m in \u001b[0;36m<module>\u001b[0;34m\u001b[0m\n\u001b[1;32m     19\u001b[0m \u001b[0;34m\u001b[0m\u001b[0m\n\u001b[1;32m     20\u001b[0m \u001b[0;31m# Code:\u001b[0m\u001b[0;34m\u001b[0m\u001b[0;34m\u001b[0m\u001b[0;34m\u001b[0m\u001b[0m\n\u001b[0;32m---> 21\u001b[0;31m \u001b[0mmyFruits\u001b[0m\u001b[0;34m[\u001b[0m\u001b[0;36m2\u001b[0m\u001b[0;34m]\u001b[0m\u001b[0;34m=\u001b[0m \u001b[0;34m'Straberry'\u001b[0m\u001b[0;34m\u001b[0m\u001b[0;34m\u001b[0m\u001b[0m\n\u001b[0m\u001b[1;32m     22\u001b[0m \u001b[0;34m\u001b[0m\u001b[0m\n\u001b[1;32m     23\u001b[0m \u001b[0;31m# Result:\u001b[0m\u001b[0;34m\u001b[0m\u001b[0;34m\u001b[0m\u001b[0;34m\u001b[0m\u001b[0m\n",
      "\u001b[0;31mTypeError\u001b[0m: 'tuple' object does not support item assignment"
     ]
    }
   ],
   "source": [
    "# Tuples\n",
    "# Tuples are similar to lists but they are immutable meaning they cannot be changed after their declaration. Mostly tuple elements are closely related. You can get the items in a tuple but you cannot set or assign a value to a tuple. Tuples can be declared by parentheses with commas or items with only commas.\n",
    "\n",
    "myFruits = ('Orange','Apple','Mango')\n",
    "# or\n",
    "# myFruits= 'Orange','Apple','Mango'\n",
    "           \n",
    "           \n",
    "# Accessing Tuples (GET)\n",
    "# Code:\n",
    "           \n",
    "favFruit = myFruits[2] \n",
    "print(favFruit)\n",
    "           \n",
    "# Result:           \n",
    "# Mango\n",
    "\n",
    "# Assigning Tuples (SET)\n",
    "           \n",
    "# Code:\n",
    "myFruits[2]= 'Straberry'\n",
    "           \n",
    "# Result:\n",
    "# TypeError: 'tuple' object does not support item assignment           "
   ]
  },
  {
   "cell_type": "code",
   "execution_count": 31,
   "metadata": {},
   "outputs": [
    {
     "name": "stdout",
     "output_type": "stream",
     "text": [
      "{1, 3, 5, 6, 8, 9}\n"
     ]
    }
   ],
   "source": [
    "# # Sets\n",
    "# # Set is a collection of unique elements. \n",
    "# It is Mutable but not ordered. The key property here is the uniqueness. \n",
    "# In other words it removes the repetition of the same elements .\n",
    "# e.g. [2,2,3,5,5] would become {2,3,5}.\n",
    "\n",
    "\n",
    "# Sets are written with curly brackets e.g.\n",
    "\n",
    "mySet = {1,2,3,5}\n",
    "\n",
    "# Lets say we gave 20 people 1 question which had 10 options to choose from (1 to 10). \n",
    "# Now these answers are stored in a list. \n",
    "# If we were interested to know only the answers that were selected we would use set.\n",
    "\n",
    "\n",
    "# Code:\n",
    "\n",
    "surveyAns = [3,6,6,5,8,3,5,1,6,9,5,1,3,6,3,1,5,8,8,9] \n",
    "optionsSelected=set(surveyAns) \n",
    "print(optionsSelected)\n",
    "\n",
    "# Result:\n",
    "# {1, 3, 5, 6, 8, 9}\n",
    "\n"
   ]
  },
  {
   "cell_type": "code",
   "execution_count": 36,
   "metadata": {},
   "outputs": [
    {
     "name": "stdout",
     "output_type": "stream",
     "text": [
      "{1, 2, 3, 4, 5}\n",
      "{1, 2, 3, 4, 5, 6}\n"
     ]
    }
   ],
   "source": [
    "# To add a new value to the Set we can use .add method. \n",
    "# This is different from append since it will add only if the Value is not available already.\n",
    "\n",
    "# Code:\n",
    "\n",
    "mySet = {1,2,3,5} \n",
    "mySet.add(4)\n",
    "print(mySet)\n",
    "\n",
    "# Result:\n",
    "# {1, 2, 3, 4, 5}\n",
    "\n",
    "# Code:\n",
    "\n",
    "mySet.add(6)\n",
    "print(mySet)\n",
    "\n",
    "# Result:\n",
    "# # {1, 2, 3, 4, 5}\n",
    "# # Since the value 2 is already in the set therefore the set remains unchanged"
   ]
  },
  {
   "cell_type": "code",
   "execution_count": 41,
   "metadata": {},
   "outputs": [
    {
     "name": "stdout",
     "output_type": "stream",
     "text": [
      "{'iphone8': 600, 'iphone9': 700, 'iphoneX': 800, 'iphone11': 1000}\n"
     ]
    }
   ],
   "source": [
    "# Dictionaries\n",
    "# Where a list is a powerful data type which allows sequential storing, \n",
    "# it lacks the element of dimensionality.\n",
    "# A list has only one dimension.\n",
    "# Therefore storing 2 dimentinal information in a list is not very feasible. For example the names of the phones and thrier prices. With dictionaries you can store values like in a table . Dictionaries are Mutable and unordered, therfore they can be changed after the declaration as well .\n",
    "# There are two Elements of a Dictionary.\n",
    "# 1. Key\n",
    "# 2. Value\n",
    "# Dictionaries can be written using curly brakets with the key and value seperated by colon and the items sepreated by commas\n",
    "\n",
    "\n",
    "myDictionary = {'key1':'value1','key2':'value2','key3':'value3'}\n",
    "\n",
    "# So it is like an actual dictionary where every word is the key and its meaning would be the values. \n",
    "# Let's take the example of the mobile shop . Here we want to store the names of each phone and its price.\n",
    "\n",
    "# Code:\n",
    "\n",
    "priceList = {'iphone8':600, 'iphone9':700, 'iphoneX':800,\n",
    "'iphone11':1000}\n",
    "print(priceList)"
   ]
  },
  {
   "cell_type": "code",
   "execution_count": 43,
   "metadata": {},
   "outputs": [
    {
     "name": "stdout",
     "output_type": "stream",
     "text": [
      "600\n",
      "900\n"
     ]
    }
   ],
   "source": [
    "# Accessing the value of a key\n",
    "# We can access the value of a key by using square brackets along with the key itself. \n",
    "\n",
    "# Code:\n",
    "\n",
    "iphone8Price = priceList['iphone8']\n",
    "print(iphone8Price)\n",
    "\n",
    "# Result:\n",
    "# 600\n",
    "\n",
    "# Assigning the values\n",
    "# Dictionary Values are Mutable that means if the value of the iphoe11 decreases we can change it in the dictionary.\n",
    "\n",
    "# Code:\n",
    "priceList['iphone11'] = 900\n",
    "print(priceList['iphone11'])\n",
    "\n",
    "# Result:\n",
    "# 900\n",
    "\n",
    "\n",
    "# Note:\n",
    "# Keys of Dictionary are Immutable\n",
    "# Values of Dictionary are Mutable"
   ]
  },
  {
   "cell_type": "code",
   "execution_count": 46,
   "metadata": {},
   "outputs": [
    {
     "name": "stdout",
     "output_type": "stream",
     "text": [
      "600 4.7\n",
      "{'price': 900, 'size': 6.1}\n"
     ]
    }
   ],
   "source": [
    "# Nested Dictionaries\n",
    "# Coming back to our mobile shop example, \n",
    "# the shop keeper would want to store details of each phone but not just with its price but with other features such as company name, \n",
    "# screen size, model number etc. In this case we can use nested Dictionaries, which simply means a dictionary inside of a dictionary.\n",
    "# Let's take an example, here we will store the iphone type and then its two features price and size.\n",
    "\n",
    "\n",
    "# Code\n",
    "iphoneDetails = {'iphone8':{'price':600,'size':4.7}, 'iphone9':{'price':700,'size':4.7},\n",
    "'iphoneX':{'price':800,'size':5.8}, 'iphone11':{'price':1000,'size':6.1}}\n",
    "\n",
    "# Accessing the values\n",
    "# The values can be accessed as before. \n",
    "# This time it will just contain another bracket with with the second key.\n",
    "\n",
    "# Code:\n",
    "iphone8Price = iphoneDetails['iphone8']['price'] \n",
    "iphone8Size = iphoneDetails['iphone8']['size'] \n",
    "print(iphone8Price,iphone8Size)\n",
    "\n",
    "# Result:\n",
    "# 600 4.7\n",
    "\n",
    "\n",
    "# Assigning the values\n",
    "# Code:\n",
    "iphoneDetails['iphone11']['price'] = 900 \n",
    "print(iphoneDetails['iphone11'])\n",
    "\n",
    "# Result:\n",
    "# {'price': 900, 'size': 6.1}\n",
    "\n"
   ]
  },
  {
   "cell_type": "code",
   "execution_count": null,
   "metadata": {},
   "outputs": [],
   "source": []
  }
 ],
 "metadata": {
  "kernelspec": {
   "display_name": "Python 3",
   "language": "python",
   "name": "python3"
  },
  "language_info": {
   "codemirror_mode": {
    "name": "ipython",
    "version": 3
   },
   "file_extension": ".py",
   "mimetype": "text/x-python",
   "name": "python",
   "nbconvert_exporter": "python",
   "pygments_lexer": "ipython3",
   "version": "3.8.5"
  }
 },
 "nbformat": 4,
 "nbformat_minor": 4
}
